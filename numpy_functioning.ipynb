{
  "nbformat": 4,
  "nbformat_minor": 0,
  "metadata": {
    "kernelspec": {
      "display_name": "Python 3",
      "language": "python",
      "name": "python3"
    },
    "language_info": {
      "codemirror_mode": {
        "name": "ipython",
        "version": 3
      },
      "file_extension": ".py",
      "mimetype": "text/x-python",
      "name": "python",
      "nbconvert_exporter": "python",
      "pygments_lexer": "ipython3",
      "version": "3.7.4"
    },
    "colab": {
      "name": "numpy_functioning.ipynb",
      "provenance": [],
      "collapsed_sections": [
        "2xF5PAx8QvdH",
        "A3DkdFTmQvdW",
        "ANk6tP-HQveQ",
        "pl31W6zOQve8",
        "hD9NnABWQvfA",
        "SRqq_LvmQvfB",
        "XfR1v9WRQvfF",
        "RGBo7jBaQvfg",
        "8LVvhtjUQvfl",
        "D11rsAkwQvf8",
        "Rd2gmEN9Qvgb",
        "ZHKdD7F05rpe",
        "JjNSXQG859l1",
        "LNIS6qPM6ded",
        "R92g2zuB6hPA",
        "MbjqIlwPFaBS"
      ],
      "toc_visible": true
    }
  },
  "cells": [
    {
      "cell_type": "code",
      "metadata": {
        "id": "2SUlb5uDQ2pn",
        "colab_type": "code",
        "cellView": "form",
        "colab": {}
      },
      "source": [
        "#@title Drive open in files\n",
        "from google.colab import drive\n",
        "drive.mount('/content/drive')"
      ],
      "execution_count": 0,
      "outputs": []
    },
    {
      "cell_type": "markdown",
      "metadata": {
        "id": "4H0Q-Hy0QvdC",
        "colab_type": "text"
      },
      "source": [
        "##### This is prepared from the numpy Documentaion for reference please visit : https://numpy.org "
      ]
    },
    {
      "cell_type": "markdown",
      "metadata": {
        "id": "2xF5PAx8QvdH",
        "colab_type": "text"
      },
      "source": [
        "### First Import All the required modules in our case  it is 'numpy' . so import it as below \n"
      ]
    },
    {
      "cell_type": "code",
      "metadata": {
        "id": "BFgUj_xSQvdM",
        "colab_type": "code",
        "colab": {}
      },
      "source": [
        "import numpy as np "
      ],
      "execution_count": 0,
      "outputs": []
    },
    {
      "cell_type": "markdown",
      "metadata": {
        "id": "A3DkdFTmQvdW",
        "colab_type": "text"
      },
      "source": [
        "# Methods Of array Creation "
      ]
    },
    {
      "cell_type": "code",
      "metadata": {
        "id": "ST7czIutQvdb",
        "colab_type": "code",
        "colab": {}
      },
      "source": [
        "# simply \n",
        "array = np.array([1,2,3,4])\n",
        "array"
      ],
      "execution_count": 0,
      "outputs": []
    },
    {
      "cell_type": "code",
      "metadata": {
        "id": "FW2d6bdRQvdi",
        "colab_type": "code",
        "colab": {}
      },
      "source": [
        "# the Wrong Way of creating the array using above method\n",
        "#uncomment the lines to get whats wrong in below lines\n",
        "#a = np.array(1,2,3,4)    \n",
        "#a"
      ],
      "execution_count": 0,
      "outputs": []
    },
    {
      "cell_type": "code",
      "metadata": {
        "id": "kAbrpcEgQvdo",
        "colab_type": "code",
        "colab": {}
      },
      "source": [
        "# creating using a data type specified \n",
        "complex_array  = np.array( [ [1,2], [3,4] ]\n",
        "                           , dtype=complex )\n",
        "complex_array"
      ],
      "execution_count": 0,
      "outputs": []
    },
    {
      "cell_type": "markdown",
      "metadata": {
        "id": "nAmR7vScQvdx",
        "colab_type": "text"
      },
      "source": [
        "#### Creating an array initialized with zeros "
      ]
    },
    {
      "cell_type": "code",
      "metadata": {
        "id": "J2oSbS-7Qvdy",
        "colab_type": "code",
        "colab": {}
      },
      "source": [
        "empty_array = np.zeros((3,3))\n",
        "empty_array"
      ],
      "execution_count": 0,
      "outputs": []
    },
    {
      "cell_type": "markdown",
      "metadata": {
        "id": "hcINXUIQQvd3",
        "colab_type": "text"
      },
      "source": [
        "#### Creating an array initialized with ones"
      ]
    },
    {
      "cell_type": "code",
      "metadata": {
        "id": "vW0N6exQQvd5",
        "colab_type": "code",
        "colab": {}
      },
      "source": [
        "ones_array = np.ones((3,3))\n",
        "ones_array\n",
        "# you can also specify dtype in each case"
      ],
      "execution_count": 0,
      "outputs": []
    },
    {
      "cell_type": "markdown",
      "metadata": {
        "id": "8GzFo7CqQveI",
        "colab_type": "text"
      },
      "source": [
        "#### Example array for Futher Understandings \n"
      ]
    },
    {
      "cell_type": "code",
      "metadata": {
        "id": "0Yvky_RaQveK",
        "colab_type": "code",
        "colab": {}
      },
      "source": [
        "array =  np.arange(15).reshape(3,5)\n",
        "array"
      ],
      "execution_count": 0,
      "outputs": []
    },
    {
      "cell_type": "markdown",
      "metadata": {
        "id": "ANk6tP-HQveQ",
        "colab_type": "text"
      },
      "source": [
        "# Functions Used in Numpy for gathering  Information about an array :"
      ]
    },
    {
      "cell_type": "markdown",
      "metadata": {
        "id": "_8xBEY4BQveS",
        "colab_type": "text"
      },
      "source": [
        "### array.shape \n",
        "#### displays the dimensions of array that is weather it is 1-D,2-D or N-D arry "
      ]
    },
    {
      "cell_type": "code",
      "metadata": {
        "id": "3_TrgNFjQveU",
        "colab_type": "code",
        "colab": {}
      },
      "source": [
        "array.shape"
      ],
      "execution_count": 0,
      "outputs": []
    },
    {
      "cell_type": "markdown",
      "metadata": {
        "id": "o3YHTSxxQveb",
        "colab_type": "text"
      },
      "source": [
        "### array.ndim \n",
        "#### the number of axes (dimensions) of the array i.e. len(array.shape())"
      ]
    },
    {
      "cell_type": "code",
      "metadata": {
        "id": "b_LjqL4XQvef",
        "colab_type": "code",
        "colab": {}
      },
      "source": [
        "array.ndim"
      ],
      "execution_count": 0,
      "outputs": []
    },
    {
      "cell_type": "markdown",
      "metadata": {
        "id": "91DZ9kdQQvej",
        "colab_type": "text"
      },
      "source": [
        "### array.size  \n",
        "#### Displays the number of Elements in the array.this can similarly obtained by multiplying each of the elements obtained from array.shape."
      ]
    },
    {
      "cell_type": "code",
      "metadata": {
        "id": "9X2ImHE7Qvek",
        "colab_type": "code",
        "colab": {}
      },
      "source": [
        "array.size "
      ],
      "execution_count": 0,
      "outputs": []
    },
    {
      "cell_type": "markdown",
      "metadata": {
        "id": "lludLNuNQveo",
        "colab_type": "text"
      },
      "source": [
        "### array.dtype \n",
        "#### an object describing the type of the elements in the array. One can create or specify dtype’s using standard Python types. Additionally NumPy provides types of its own. numpy.int32, numpy.int16, and numpy.float64 are some examples."
      ]
    },
    {
      "cell_type": "code",
      "metadata": {
        "id": "j0UxIU6ZQveq",
        "colab_type": "code",
        "colab": {}
      },
      "source": [
        "array.dtype"
      ],
      "execution_count": 0,
      "outputs": []
    },
    {
      "cell_type": "markdown",
      "metadata": {
        "id": "kAO2lr0pQvex",
        "colab_type": "text"
      },
      "source": [
        "### array.itemsize\n",
        "#### the size in bytes of each element of the array. For example, an array of elements of type float64 has itemsize 8 (=64/8), while one of type complex32 has itemsize 4 (=32/8). It is equivalent to ndarray.dtype.itemsize."
      ]
    },
    {
      "cell_type": "code",
      "metadata": {
        "id": "rzfSz-joQvey",
        "colab_type": "code",
        "colab": {}
      },
      "source": [
        "array.itemsize"
      ],
      "execution_count": 0,
      "outputs": []
    },
    {
      "cell_type": "markdown",
      "metadata": {
        "id": "sBDduvYPQve2",
        "colab_type": "text"
      },
      "source": [
        "#### To display the Data inside a numpy array we use \n",
        "array name"
      ]
    },
    {
      "cell_type": "code",
      "metadata": {
        "id": "VNSv3EoeQve3",
        "colab_type": "code",
        "colab": {}
      },
      "source": [
        "array"
      ],
      "execution_count": 0,
      "outputs": []
    },
    {
      "cell_type": "markdown",
      "metadata": {
        "id": "pl31W6zOQve8",
        "colab_type": "text"
      },
      "source": [
        "#### this Arrays are often Known as ndarrays stands for n-dimensional arrays "
      ]
    },
    {
      "cell_type": "markdown",
      "metadata": {
        "id": "hD9NnABWQvfA",
        "colab_type": "text"
      },
      "source": [
        "# <span style=\"color:green\">  Indexing, Slicing and Iterating</span>\n",
        "______________________________________________________________________"
      ]
    },
    {
      "cell_type": "markdown",
      "metadata": {
        "id": "SRqq_LvmQvfB",
        "colab_type": "text"
      },
      "source": [
        "## 1-D array "
      ]
    },
    {
      "cell_type": "code",
      "metadata": {
        "id": "yEGljnEKQvfC",
        "colab_type": "code",
        "colab": {}
      },
      "source": [
        "#creating an Exapmle array \n",
        "a= np.arange(10)\n"
      ],
      "execution_count": 0,
      "outputs": []
    },
    {
      "cell_type": "markdown",
      "metadata": {
        "id": "XfR1v9WRQvfF",
        "colab_type": "text"
      },
      "source": [
        "### Indexing"
      ]
    },
    {
      "cell_type": "markdown",
      "metadata": {
        "id": "mIo2S6EHQvfH",
        "colab_type": "text"
      },
      "source": [
        "1-D arrays are most similar to the list in terms of indexing.\n",
        "the First index starts from 0  and heads to n-1 terms "
      ]
    },
    {
      "cell_type": "code",
      "metadata": {
        "id": "nx2ja7L3QvfI",
        "colab_type": "code",
        "colab": {}
      },
      "source": [
        "#examples :\n",
        "a[2]"
      ],
      "execution_count": 0,
      "outputs": []
    },
    {
      "cell_type": "code",
      "metadata": {
        "id": "Oo7EMHEIQvfN",
        "colab_type": "code",
        "colab": {}
      },
      "source": [
        "a[2:5]"
      ],
      "execution_count": 0,
      "outputs": []
    },
    {
      "cell_type": "code",
      "metadata": {
        "id": "bAKpMO0vQvfS",
        "colab_type": "code",
        "colab": {}
      },
      "source": [
        "a[:6:2] = -1000\n",
        "a\n",
        " # equivalent to a[0:6:2] = -1000; from start to position 6,\n",
        "#exclusive, set every 2nd element to -1000"
      ],
      "execution_count": 0,
      "outputs": []
    },
    {
      "cell_type": "code",
      "metadata": {
        "id": "-c90j2ezQvfX",
        "colab_type": "code",
        "colab": {}
      },
      "source": [
        "# reversing 1-D array \n",
        "a[ : :-1]   "
      ],
      "execution_count": 0,
      "outputs": []
    },
    {
      "cell_type": "code",
      "metadata": {
        "id": "ldLEHHOsQvfb",
        "colab_type": "code",
        "colab": {}
      },
      "source": [
        "array = a \n",
        "# interation example for 1-D array :\n",
        "for an_element in array :\n",
        "    print(f\"{an_element**3}\")\n",
        "# if you dont understand above please return and learn python ."
      ],
      "execution_count": 0,
      "outputs": []
    },
    {
      "cell_type": "markdown",
      "metadata": {
        "id": "RGBo7jBaQvfg",
        "colab_type": "text"
      },
      "source": [
        "## Multi-Dimenstional arrays"
      ]
    },
    {
      "cell_type": "markdown",
      "metadata": {
        "id": "bheJBI4FQvfg",
        "colab_type": "text"
      },
      "source": [
        "Multidimensional arrays can have one index per axis. These indices are given in a tuple separated by commas:"
      ]
    },
    {
      "cell_type": "code",
      "metadata": {
        "id": "KkCbresYQvfi",
        "colab_type": "code",
        "colab": {}
      },
      "source": [
        "# another creation method \n",
        "function = lambda x , y  : 10*x+y\n",
        "b = np.fromfunction(function , (5,4),dtype=int)\n",
        "b"
      ],
      "execution_count": 0,
      "outputs": []
    },
    {
      "cell_type": "markdown",
      "metadata": {
        "id": "8LVvhtjUQvfl",
        "colab_type": "text"
      },
      "source": [
        "### Indexing "
      ]
    },
    {
      "cell_type": "code",
      "metadata": {
        "id": "bIXXD2kHQvfm",
        "colab_type": "code",
        "colab": {}
      },
      "source": [
        "b[2,3] # returns 2nd row 3rd collumn  "
      ],
      "execution_count": 0,
      "outputs": []
    },
    {
      "cell_type": "code",
      "metadata": {
        "id": "8Duiv03qQvft",
        "colab_type": "code",
        "colab": {}
      },
      "source": [
        "b[0: ,1 ] # returns all elements from collumn"
      ],
      "execution_count": 0,
      "outputs": []
    },
    {
      "cell_type": "code",
      "metadata": {
        "id": "oeTfbmhiQvfy",
        "colab_type": "code",
        "colab": {}
      },
      "source": [
        "b[-1] # returns last row in the array "
      ],
      "execution_count": 0,
      "outputs": []
    },
    {
      "cell_type": "code",
      "metadata": {
        "id": "lPg-NLJDQvf0",
        "colab_type": "code",
        "colab": {}
      },
      "source": [
        "b[1:3, : ]  # each column in the second and third row of b"
      ],
      "execution_count": 0,
      "outputs": []
    },
    {
      "cell_type": "markdown",
      "metadata": {
        "id": "LnGobcUrQvf2",
        "colab_type": "text"
      },
      "source": [
        "Lets try some 3-D arrays "
      ]
    },
    {
      "cell_type": "code",
      "metadata": {
        "id": "JjEzAbZ8Qvf3",
        "colab_type": "code",
        "colab": {}
      },
      "source": [
        "\n",
        "#creation of 3d arrays :\n",
        "c = np.array( [[[  0,  1,  2],               \n",
        "    [ 10, 12, 13]],\n",
        "    [[100,101,102],\n",
        "     [110,112,113]]])\n",
        "c\n"
      ],
      "execution_count": 0,
      "outputs": []
    },
    {
      "cell_type": "code",
      "metadata": {
        "id": "FWUXVQ3bQvf5",
        "colab_type": "code",
        "colab": {}
      },
      "source": [
        "# lets check the shape of c \n",
        "c.shape"
      ],
      "execution_count": 0,
      "outputs": []
    },
    {
      "cell_type": "markdown",
      "metadata": {
        "id": "D11rsAkwQvf8",
        "colab_type": "text"
      },
      "source": [
        "### Indexing\n",
        "now here we can use the indexs in three places , say each place as axis and these axes can actually be very helpful in certain case.\n",
        "lets say indexs can be used as (indexs of x axis,\n",
        "                                index of y axis,\n",
        "                                index of z axis\n",
        "                                )"
      ]
    },
    {
      "cell_type": "code",
      "metadata": {
        "id": "PV0B0JWGQvf9",
        "colab_type": "code",
        "colab": {}
      },
      "source": [
        "# examples"
      ],
      "execution_count": 0,
      "outputs": []
    },
    {
      "cell_type": "code",
      "metadata": {
        "id": "qZ_aF1VOQvgB",
        "colab_type": "code",
        "colab": {}
      },
      "source": [
        "c[1]"
      ],
      "execution_count": 0,
      "outputs": []
    },
    {
      "cell_type": "code",
      "metadata": {
        "id": "WUSUdkknQvgD",
        "colab_type": "code",
        "colab": {}
      },
      "source": [
        "c[1,0,1]"
      ],
      "execution_count": 0,
      "outputs": []
    },
    {
      "cell_type": "code",
      "metadata": {
        "id": "FVbA_7dJQvgF",
        "colab_type": "code",
        "colab": {}
      },
      "source": [
        "c[ : , 1 , :]"
      ],
      "execution_count": 0,
      "outputs": []
    },
    {
      "cell_type": "markdown",
      "metadata": {
        "id": "XZ4f0nAiQvgH",
        "colab_type": "text"
      },
      "source": [
        "and Hence similarly we can use any dimensional array and apply indexing, slicing "
      ]
    },
    {
      "cell_type": "markdown",
      "metadata": {
        "id": "MzDmVO7aQvgI",
        "colab_type": "text"
      },
      "source": [
        "### Iterating over the multi dimensional arrays"
      ]
    },
    {
      "cell_type": "code",
      "metadata": {
        "id": "ONVRE2y3QvgJ",
        "colab_type": "code",
        "colab": {}
      },
      "source": [
        "# lets` take our b again\n",
        "b"
      ],
      "execution_count": 0,
      "outputs": []
    },
    {
      "cell_type": "code",
      "metadata": {
        "id": "rQ8qCU6FQvgK",
        "colab_type": "code",
        "colab": {}
      },
      "source": [
        "# using for iteration on the arrays \n",
        "for row in b:\n",
        "    for item in row :\n",
        "        print(f\"{item},\",end=\" \")\n",
        "    print()"
      ],
      "execution_count": 0,
      "outputs": []
    },
    {
      "cell_type": "markdown",
      "metadata": {
        "id": "jjbM4s-YQvgN",
        "colab_type": "text"
      },
      "source": [
        "using flat attribute "
      ]
    },
    {
      "cell_type": "code",
      "metadata": {
        "id": "FdecyxXKQvgN",
        "colab_type": "code",
        "colab": {}
      },
      "source": [
        "# lets` see what this attribute does:\n",
        "b.flat"
      ],
      "execution_count": 0,
      "outputs": []
    },
    {
      "cell_type": "code",
      "metadata": {
        "id": "X8_sBdJJQvgS",
        "colab_type": "code",
        "colab": {}
      },
      "source": [
        "# can`t see anything lets type cast it to a list or a tuple\n",
        "list(b.flat)\n"
      ],
      "execution_count": 0,
      "outputs": []
    },
    {
      "cell_type": "code",
      "metadata": {
        "id": "0jPAwyHMQvgU",
        "colab_type": "code",
        "colab": {}
      },
      "source": [
        "# agin using for\n",
        "for element in b.flat  :\n",
        "    print(element)"
      ],
      "execution_count": 0,
      "outputs": []
    },
    {
      "cell_type": "markdown",
      "metadata": {
        "id": "uazytp7pQvgZ",
        "colab_type": "raw"
      },
      "source": [
        "****************************************************************************"
      ]
    },
    {
      "cell_type": "markdown",
      "metadata": {
        "id": "Rd2gmEN9Qvgb",
        "colab_type": "text"
      },
      "source": [
        "# Changing Shape Of arrays "
      ]
    },
    {
      "cell_type": "markdown",
      "metadata": {
        "id": "Qp3l3N86Qvgc",
        "colab_type": "text"
      },
      "source": [
        "#### An array has a shape given by the number of elements along each axis"
      ]
    },
    {
      "cell_type": "code",
      "metadata": {
        "id": "EfBWvWZhQvgf",
        "colab_type": "code",
        "colab": {}
      },
      "source": [
        "# creating a new array for this purpose you may say it as \n",
        "#another way of creating an np array \n",
        "shape_test_array = np.floor(10*np.random.random((3,4))) \n",
        "shape_test_array"
      ],
      "execution_count": 0,
      "outputs": []
    },
    {
      "cell_type": "markdown",
      "metadata": {
        "id": "GHcD4LNiQvgh",
        "colab_type": "text"
      },
      "source": [
        "Before moving forward lets understand the above line<br>\n",
        "shape_test_array = np.floor(10*np.random.random((3,4))) \n",
        "\n"
      ]
    },
    {
      "cell_type": "code",
      "metadata": {
        "id": "G-2xzu4NQvgi",
        "colab_type": "code",
        "colab": {}
      },
      "source": [
        "# if you want to know what is np.random just execute this block \n",
        "help(np.random)"
      ],
      "execution_count": 0,
      "outputs": []
    },
    {
      "cell_type": "markdown",
      "metadata": {
        "id": "Xozw2VFcQvgk",
        "colab_type": "text"
      },
      "source": [
        "the above is the help command  used to describe the np.random module \n",
        "its does contain the function random which takes a tuple of Shape N and generates random  number . this random number is generally of float64 data type  and may contain floats upto 6 or 8 digits or even more . don't belive me run block below \n"
      ]
    },
    {
      "cell_type": "code",
      "metadata": {
        "id": "unv8U3ukQvgk",
        "colab_type": "code",
        "colab": {}
      },
      "source": [
        "my_shape = (3,2) # rows,collumns\n",
        "np.random.random(my_shape)"
      ],
      "execution_count": 0,
      "outputs": []
    },
    {
      "cell_type": "markdown",
      "metadata": {
        "id": "SjskJQLPQvgn",
        "colab_type": "text"
      },
      "source": [
        "now to make it in ones or tens multiply it with certain 10**n so that it can make more useful for any person execute below cells one by one and catch the diffrence"
      ]
    },
    {
      "cell_type": "code",
      "metadata": {
        "id": "KVCrHu9JQvgo",
        "colab_type": "code",
        "colab": {}
      },
      "source": [
        "10*np.random.random(my_shape)"
      ],
      "execution_count": 0,
      "outputs": []
    },
    {
      "cell_type": "code",
      "metadata": {
        "id": "ixWy3VePQvgq",
        "colab_type": "code",
        "colab": {}
      },
      "source": [
        "100*np.random.random(my_shape)"
      ],
      "execution_count": 0,
      "outputs": []
    },
    {
      "cell_type": "code",
      "metadata": {
        "id": "qD3h5v8NQvgr",
        "colab_type": "code",
        "colab": {}
      },
      "source": [
        "# similary for any power of n. "
      ],
      "execution_count": 0,
      "outputs": []
    },
    {
      "cell_type": "markdown",
      "metadata": {
        "id": "HFPcGUXDQvgt",
        "colab_type": "text"
      },
      "source": [
        "now to round the values off we used the floor function. "
      ]
    },
    {
      "cell_type": "code",
      "metadata": {
        "id": "ZpdLJ53vQvgv",
        "colab_type": "code",
        "colab": {}
      },
      "source": [
        "np.floor(1000*np.random.random(my_shape))"
      ],
      "execution_count": 0,
      "outputs": []
    },
    {
      "cell_type": "markdown",
      "metadata": {
        "id": "dY-Snw3xQvgy",
        "colab_type": "text"
      },
      "source": [
        "a dot at end says its a floor value means float with no precisions\n",
        "#### hence got the array \n",
        "lets start changing the shape \n"
      ]
    },
    {
      "cell_type": "code",
      "metadata": {
        "id": "LGL79JSnQvgz",
        "colab_type": "code",
        "colab": {}
      },
      "source": [
        "shape_test_array.ravel() # this returned a  flat 1-d array while \n",
        "#b.flat attribute returns an object "
      ],
      "execution_count": 0,
      "outputs": []
    },
    {
      "cell_type": "code",
      "metadata": {
        "id": "Roim-nweQvg1",
        "colab_type": "code",
        "colab": {}
      },
      "source": [
        "shape_test_array.reshape(6,2) # reshaped 1-D array to 2-D array "
      ],
      "execution_count": 0,
      "outputs": []
    },
    {
      "cell_type": "code",
      "metadata": {
        "id": "fVMymwT-Qvg3",
        "colab_type": "code",
        "colab": {}
      },
      "source": [
        "# one more way on rectangular shape arrays to change its shape is  \n",
        "#using Transpose \n",
        "shape_test_array.T # this returns transpose of the given N-D array "
      ],
      "execution_count": 0,
      "outputs": []
    },
    {
      "cell_type": "code",
      "metadata": {
        "id": "2yQwVm1IQvg6",
        "colab_type": "code",
        "colab": {}
      },
      "source": [
        "# using resize method \n",
        "# ussage array.resize(shape)\n",
        "shape_test_array.resize((2,6))"
      ],
      "execution_count": 0,
      "outputs": []
    },
    {
      "cell_type": "markdown",
      "metadata": {
        "id": "ZHKdD7F05rpe",
        "colab_type": "text"
      },
      "source": [
        "# Basic Operations "
      ]
    },
    {
      "cell_type": "markdown",
      "metadata": {
        "id": "1wRp1pxc76qU",
        "colab_type": "text"
      },
      "source": [
        "#### The basic terminology array is now getting  a bit obvious so by performing airthmetic operations we must have some specific names to each one of them <br>\n",
        " for instance lets call -\n",
        "*  1-D array as **series** .\n",
        "* 2-D arrays as  **matrix** .\n",
        "* more than 2 dimensions as **tensors**. "
      ]
    },
    {
      "cell_type": "code",
      "metadata": {
        "id": "jmtXktom53OY",
        "colab_type": "code",
        "colab": {}
      },
      "source": [
        "# creating an example series :\n",
        "series_one = np.array(range(10,1010 , 10))\n",
        "series_one"
      ],
      "execution_count": 0,
      "outputs": []
    },
    {
      "cell_type": "code",
      "metadata": {
        "id": "jajl0_FY58L0",
        "colab_type": "code",
        "colab": {}
      },
      "source": [
        "#creating a second series  :\n",
        "series_two =np.arange(5,5000, 50)\n",
        "series_two\n"
      ],
      "execution_count": 0,
      "outputs": []
    },
    {
      "cell_type": "code",
      "metadata": {
        "id": "SOVH1I4J-8sw",
        "colab_type": "code",
        "colab": {}
      },
      "source": [
        "# basic operations such as +,-,*,/  applies from element to element \n",
        "# lets try"
      ],
      "execution_count": 0,
      "outputs": []
    },
    {
      "cell_type": "code",
      "metadata": {
        "id": "3R8aJw6p_hns",
        "colab_type": "code",
        "colab": {}
      },
      "source": [
        "# sum \n",
        "addition_series = series_one  + series_two \n",
        "addition_series"
      ],
      "execution_count": 0,
      "outputs": []
    },
    {
      "cell_type": "code",
      "metadata": {
        "id": "I40Nkt2n_0d9",
        "colab_type": "code",
        "colab": {}
      },
      "source": [
        "# Diffrence\n",
        "diffrence_series = series_two - series_one\n",
        "diffrence_series"
      ],
      "execution_count": 0,
      "outputs": []
    },
    {
      "cell_type": "code",
      "metadata": {
        "id": "DjB0mPR_ASB_",
        "colab_type": "code",
        "colab": {}
      },
      "source": [
        "# product\n",
        "product_series = series_one * series_two\n",
        "product_series"
      ],
      "execution_count": 0,
      "outputs": []
    },
    {
      "cell_type": "code",
      "metadata": {
        "id": "Oe59i6jdAftP",
        "colab_type": "code",
        "colab": {}
      },
      "source": [
        "# quotient\n",
        "quotient_series = series_two / series_one\n",
        "quotient_series"
      ],
      "execution_count": 0,
      "outputs": []
    },
    {
      "cell_type": "code",
      "metadata": {
        "id": "M4cpEdSkBEwp",
        "colab_type": "code",
        "colab": {}
      },
      "source": [
        "# max in a series means only one operand at a time\n",
        "max_sum =max(series_one) + max(series_two)\n",
        "max_sum"
      ],
      "execution_count": 0,
      "outputs": []
    },
    {
      "cell_type": "code",
      "metadata": {
        "id": "hEYuZVEzBjJ9",
        "colab_type": "code",
        "colab": {}
      },
      "source": [
        "# min in a series\n",
        "min_sum = min(series_one) + min(series_two)\n",
        "min_sum"
      ],
      "execution_count": 0,
      "outputs": []
    },
    {
      "cell_type": "code",
      "metadata": {
        "id": "XFVUizwDBjFG",
        "colab_type": "code",
        "colab": {}
      },
      "source": [
        "# finding the sum all the elements of a series\n",
        "sum(series_one + series_two)"
      ],
      "execution_count": 0,
      "outputs": []
    },
    {
      "cell_type": "markdown",
      "metadata": {
        "id": "zyEXzbuuC7vl",
        "colab_type": "text"
      },
      "source": [
        "## Matrix Operations \n"
      ]
    },
    {
      "cell_type": "code",
      "metadata": {
        "id": "dQ0PU3LgCre8",
        "colab_type": "code",
        "colab": {}
      },
      "source": [
        "# creating Sample Matrix \n",
        "matrix_one  = np.array([[1,2,3],\n",
        "                        [6,5,4],\n",
        "                        [7,9,8]])\n",
        "matrix_one"
      ],
      "execution_count": 0,
      "outputs": []
    },
    {
      "cell_type": "code",
      "metadata": {
        "id": "ZcMOR_nnEP-c",
        "colab_type": "code",
        "colab": {}
      },
      "source": [
        "matrix_two = np.arange(9).reshape(3,3)\n",
        "matrix_two"
      ],
      "execution_count": 0,
      "outputs": []
    },
    {
      "cell_type": "code",
      "metadata": {
        "id": "p5ELQ9h6EekE",
        "colab_type": "code",
        "colab": {}
      },
      "source": [
        "# addition be sure that  both have same dimmensions\n",
        "matrix_addition = matrix_one+ matrix_two \n",
        "matrix_addition\n"
      ],
      "execution_count": 0,
      "outputs": []
    },
    {
      "cell_type": "code",
      "metadata": {
        "id": "MnIjcx57GhqT",
        "colab_type": "code",
        "colab": {}
      },
      "source": [
        "# substraction same rules as addition\n",
        "matrix_substraction = matrix_one - matrix_two\n",
        "matrix_substraction"
      ],
      "execution_count": 0,
      "outputs": []
    },
    {
      "cell_type": "code",
      "metadata": {
        "id": "gqNho_qYlolx",
        "colab_type": "code",
        "colab": {}
      },
      "source": [
        "#matrix multiplication\n",
        "#You can multiply two matrices if, and only if, the number of columns  in the \n",
        "#first matrix equals the number of rows  in the second matrix."
      ],
      "execution_count": 0,
      "outputs": []
    },
    {
      "cell_type": "code",
      "metadata": {
        "id": "1tWAUPlGnj3S",
        "colab_type": "code",
        "colab": {}
      },
      "source": [
        "product_matrix = matrix_two @ matrix_one # @: for performing Veector multiplication\n",
        "product_matrix"
      ],
      "execution_count": 0,
      "outputs": []
    },
    {
      "cell_type": "markdown",
      "metadata": {
        "id": "1Ie1gOHkoJTM",
        "colab_type": "text"
      },
      "source": [
        "#### there is only this much in this segment and if you know how to deal with more than two dimensional matrix than you can apply it simmilarly so lets continue with next section."
      ]
    },
    {
      "cell_type": "markdown",
      "metadata": {
        "id": "JjNSXQG859l1",
        "colab_type": "text"
      },
      "source": [
        "# Universal Functions\n"
      ]
    },
    {
      "cell_type": "markdown",
      "metadata": {
        "id": "e7D1JcCP6FmY",
        "colab_type": "text"
      },
      "source": [
        "NumPy provides familiar mathematical functions such as sin, cos, and exp. In NumPy, these are called “universal functions”(ufunc). Within NumPy, these functions operate elementwise on an array, producing an array as output.\n",
        "\n",
        "\n",
        "in this all i will introduce a new term called nd-array or simply ndarray  it stands for n-dimmensional Array  means n can be whatever you want such as 1,2,3... .\n",
        " "
      ]
    },
    {
      "cell_type": "code",
      "metadata": {
        "id": "wfT01ZfDp5Tu",
        "colab_type": "code",
        "colab": {}
      },
      "source": [
        "# lets try and understand them one by one "
      ],
      "execution_count": 0,
      "outputs": []
    },
    {
      "cell_type": "markdown",
      "metadata": {
        "id": "K2_4yJ7crr6m",
        "colab_type": "text"
      },
      "source": [
        "### np.arange function"
      ]
    },
    {
      "cell_type": "code",
      "metadata": {
        "id": "v1_nB9Ftp_a4",
        "colab_type": "code",
        "colab": {}
      },
      "source": [
        "# ussage : np.arange(start,stop,step)\n",
        "np.arange(5)\n",
        "#this will create a sequenstional array from 0 to n other enamples are in below "
      ],
      "execution_count": 0,
      "outputs": []
    },
    {
      "cell_type": "code",
      "metadata": {
        "id": "fWfggSp8riyo",
        "colab_type": "code",
        "colab": {}
      },
      "source": [
        "np.arange(1,100)"
      ],
      "execution_count": 0,
      "outputs": []
    },
    {
      "cell_type": "code",
      "metadata": {
        "id": "ZtFpZC51rpgw",
        "colab_type": "code",
        "colab": {}
      },
      "source": [
        "np.arange(0,3000,90)"
      ],
      "execution_count": 0,
      "outputs": []
    },
    {
      "cell_type": "code",
      "metadata": {
        "id": "9WjZCjI1sETl",
        "colab_type": "code",
        "colab": {}
      },
      "source": [
        "# a cool trick lets print the table of 9 using arrange \n",
        "print(np.arange(9,91,9))"
      ],
      "execution_count": 0,
      "outputs": []
    },
    {
      "cell_type": "markdown",
      "metadata": {
        "id": "beOctNWetDvc",
        "colab_type": "text"
      },
      "source": [
        "### np.exp()"
      ]
    },
    {
      "cell_type": "code",
      "metadata": {
        "id": "lweekRaEtJDS",
        "colab_type": "code",
        "colab": {}
      },
      "source": [
        "# this method gives array that contains the exponential of parameter array's \n",
        "#elements\n",
        "#ussage np.exp(ndarray)\n",
        "\n",
        "#lets create a series with arange \n",
        "range_series = np.arange(10)\n",
        "result_exp = np.floor(np.exp(range_series))\n",
        "result_exp\n"
      ],
      "execution_count": 0,
      "outputs": []
    },
    {
      "cell_type": "markdown",
      "metadata": {
        "id": "d6AU4-ONutwt",
        "colab_type": "text"
      },
      "source": [
        "### np.sqrt()"
      ]
    },
    {
      "cell_type": "code",
      "metadata": {
        "id": "5vP2Zl28u2VB",
        "colab_type": "code",
        "colab": {}
      },
      "source": [
        "# this returns a ndarray of similar shape that we pass and with sqrt of all the objects\n",
        "# lets create an array :\n",
        "sample_list = [x**2 for x in range(1,100)]\n",
        "sample_array = np.array(sample_list)\n",
        "sqrt_array = np.sqrt(sample_array)\n",
        "sqrt_array"
      ],
      "execution_count": 0,
      "outputs": []
    },
    {
      "cell_type": "code",
      "metadata": {
        "id": "PGXihIxWCtVe",
        "colab_type": "code",
        "colab": {}
      },
      "source": [
        "# now lets try to add both of them but using a function\n",
        "add_series=np.add(result_exp , sqrt_array[10])\n",
        "add_series\n",
        "# add() is also a function for numpy arrays to get the things done quickly ."
      ],
      "execution_count": 0,
      "outputs": []
    },
    {
      "cell_type": "markdown",
      "metadata": {
        "id": "kiSOCfAfEob6",
        "colab_type": "text"
      },
      "source": [
        "There are more such universal functions that can do  a lot more but for this i am stopping here."
      ]
    },
    {
      "cell_type": "markdown",
      "metadata": {
        "id": "LNIS6qPM6ded",
        "colab_type": "text"
      },
      "source": [
        "# Basic Statsticts"
      ]
    },
    {
      "cell_type": "code",
      "metadata": {
        "id": "Vpd7nYQe6gL3",
        "colab_type": "code",
        "colab": {}
      },
      "source": [
        ""
      ],
      "execution_count": 0,
      "outputs": []
    },
    {
      "cell_type": "markdown",
      "metadata": {
        "id": "R92g2zuB6hPA",
        "colab_type": "text"
      },
      "source": [
        "# Basic Linear Algebra "
      ]
    },
    {
      "cell_type": "markdown",
      "metadata": {
        "id": "MbjqIlwPFaBS",
        "colab_type": "text"
      },
      "source": [
        "## Lets do some linear algebra with numpys \n",
        "\n",
        "(its a Demo)"
      ]
    },
    {
      "cell_type": "code",
      "metadata": {
        "id": "70_k4gvM6lKa",
        "colab_type": "code",
        "colab": {}
      },
      "source": [
        "#importing the numpy\n",
        "import numpy as np"
      ],
      "execution_count": 0,
      "outputs": []
    },
    {
      "cell_type": "code",
      "metadata": {
        "id": "tyeRd9KmGHvb",
        "colab_type": "code",
        "colab": {}
      },
      "source": [
        "# creating an array for the simple array operations\n",
        "arr = np.array([[1.0,2.0],[3.0,4.0]])\n",
        "# lets print it \n",
        "print(arr)"
      ],
      "execution_count": 0,
      "outputs": []
    },
    {
      "cell_type": "code",
      "metadata": {
        "id": "c5rP5LQnGsso",
        "colab_type": "code",
        "colab": {}
      },
      "source": [
        "# transpose of the array\n",
        "arr.transpose()"
      ],
      "execution_count": 0,
      "outputs": []
    },
    {
      "cell_type": "code",
      "metadata": {
        "id": "6we1hiERG3OV",
        "colab_type": "code",
        "colab": {}
      },
      "source": [
        "#similar to above opertaion\n",
        "arr.T"
      ],
      "execution_count": 0,
      "outputs": []
    },
    {
      "cell_type": "code",
      "metadata": {
        "id": "lJeFzJLWHBmR",
        "colab_type": "code",
        "colab": {}
      },
      "source": [
        "# Finding the inverse of above sequence \n",
        "np.linalg.inv(arr)"
      ],
      "execution_count": 0,
      "outputs": []
    },
    {
      "cell_type": "code",
      "metadata": {
        "id": "_jOnD_FiHRzI",
        "colab_type": "code",
        "colab": {}
      },
      "source": [
        "# unit matrix creation \n",
        "unit_matrix = np.eye(2)\n",
        "unit_matrix"
      ],
      "execution_count": 0,
      "outputs": []
    },
    {
      "cell_type": "code",
      "metadata": {
        "id": "w_7zM0PsHiRL",
        "colab_type": "code",
        "colab": {}
      },
      "source": [
        "# matrix mul\n",
        "arr @ arr.T"
      ],
      "execution_count": 0,
      "outputs": []
    },
    {
      "cell_type": "code",
      "metadata": {
        "id": "f9j32Ii0HiHD",
        "colab_type": "code",
        "colab": {}
      },
      "source": [
        "np.trace(unit_matrix) # this returns order of unit matrix "
      ],
      "execution_count": 0,
      "outputs": []
    },
    {
      "cell_type": "code",
      "metadata": {
        "id": "Rc0f12-1H7AS",
        "colab_type": "code",
        "colab": {}
      },
      "source": [
        "np.linalg.solve(arr,arr.T) #  solves a system of equation created by matrices ."
      ],
      "execution_count": 0,
      "outputs": []
    },
    {
      "cell_type": "code",
      "metadata": {
        "id": "tjZIvsAzIKw4",
        "colab_type": "code",
        "colab": {}
      },
      "source": [
        "# finding eigen values of matrix\n",
        "np.linalg.eig(arr)"
      ],
      "execution_count": 0,
      "outputs": []
    },
    {
      "cell_type": "markdown",
      "metadata": {
        "id": "ezBkvFeaJUSx",
        "colab_type": "text"
      },
      "source": [
        "# Good bye GUYS"
      ]
    }
  ]
}